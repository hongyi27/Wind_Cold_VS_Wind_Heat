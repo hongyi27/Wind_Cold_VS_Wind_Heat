{
 "cells": [
  {
   "cell_type": "code",
   "execution_count": null,
   "id": "59582802-dd57-400a-9792-b2c7eadca434",
   "metadata": {},
   "outputs": [],
   "source": [
    "from sklearn.ensemble import RandomForestClassifier\n",
    "from sklearn.model_selection import cross_val_score, cross_val_predict\n",
    "from sklearn.metrics import roc_curve, auc\n",
    "import matplotlib.pyplot as plt\n",
    "import pandas as pd\n",
    "import numpy as np\n",
    "data = pd.read_csv(r\"D:/Machine_learning/genedata.csv\")\n",
    "\n",
    "data.target = data['syndrome']\n",
    "\n",
    "data.data = data.drop('syndrome', axis=1)\n",
    "\n",
    "rfc = RandomForestClassifier(n_estimators=22, random_state=90, max_depth=5, max_features=3, min_samples_split=2)\n",
    "\n",
    "score = cross_val_score(rfc, data.data, data.target, cv=10).mean()\n",
    "print(score)\n",
    "\n",
    "\n",
    "y_pred_proba = cross_val_predict(rfc, data.data, data.target, cv=10, method='predict_proba')\n",
    "\n",
    "\n",
    "fpr, tpr, _ = roc_curve(data.target, y_pred_proba[:, 1])\n",
    "roc_auc = auc(fpr, tpr)\n",
    "\n",
    "\n",
    "specificity = (1 - fpr) * 100\n",
    "sensitivity = tpr * 100\n",
    "\n",
    "\n",
    "plt.figure(figsize=(8,6))\n",
    "plt.plot(specificity, sensitivity, color='red', label=f'AUC = {roc_auc:.2%}')\n",
    "plt.plot([100, 0], [0, 100], color='black', linestyle='--')\n",
    "plt.xlim([105,-5 ])\n",
    "plt.ylim([-5, 105])\n",
    "plt.xlabel('Specificity (%)',fontsize=14)\n",
    "plt.ylabel('Sensitivity (%)',fontsize=14)\n",
    "plt.legend(loc=\"lower right\",fontsize=14)\n",
    "\n",
    "\n",
    "plt.savefig('roc_curve111.pdf', format='pdf')\n",
    "\n",
    "plt.show()"
   ]
  }
 ],
 "metadata": {
  "kernelspec": {
   "display_name": "Python 3 (ipykernel)",
   "language": "python",
   "name": "python3"
  },
  "language_info": {
   "codemirror_mode": {
    "name": "ipython",
    "version": 3
   },
   "file_extension": ".py",
   "mimetype": "text/x-python",
   "name": "python",
   "nbconvert_exporter": "python",
   "pygments_lexer": "ipython3",
   "version": "3.11.5"
  }
 },
 "nbformat": 4,
 "nbformat_minor": 5
}
